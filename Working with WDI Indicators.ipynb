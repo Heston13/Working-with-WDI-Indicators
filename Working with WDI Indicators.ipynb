{
 "cells": [
  {
   "cell_type": "code",
   "execution_count": 2,
   "id": "6c85fe7d-7eb0-4434-b7a8-29e12f54a420",
   "metadata": {
    "user_expressions": []
   },
   "outputs": [],
   "source": [
    "# Basic Packages\n",
    "from __future__ import division\n",
    "import os\n",
    "from datetime import datetime\n",
    "\n",
    "# Web & file access\n",
    "import requests\n",
    "import io\n",
    "\n",
    "# Import display options for showing websites\n",
    "from IPython.display import IFrame, HTML"
   ]
  },
  {
   "cell_type": "code",
   "execution_count": 3,
   "id": "65ffb832-5557-4d80-9eb9-9ee626648185",
   "metadata": {},
   "outputs": [
    {
     "name": "stdout",
     "output_type": "stream",
     "text": [
      "Using matplotlib backend: <object object at 0x000001CE42A977E0>\n",
      "Populating the interactive namespace from numpy and matplotlib\n"
     ]
    }
   ],
   "source": [
    "# Plotting\n",
    "import matplotlib as mpl\n",
    "import matplotlib.pyplot as plt\n",
    "import matplotlib.ticker as mtick\n",
    "\n",
    "%pylab --no-import-all\n",
    "%matplotlib inline\n",
    "\n",
    "import seaborn as sns\n",
    "sns.set(rc={'figure.figsize':(11.7,8.27)})\n",
    "sns.set_context(\"talk\")\n",
    "\n",
    "import plotly.express as px\n",
    "import plotly.graph_objects as go\n",
    "\n",
    "from plotnine import ggplot, geom_point, aes, stat_smooth, facet_wrap\n",
    "# Next line can import all of plotnine, but may overwrite things? Better import each function/object you need\n",
    "#from plotnine import *"
   ]
  },
  {
   "cell_type": "code",
   "execution_count": 4,
   "id": "299c1768-77a2-4dfa-8eb6-cba4638431ad",
   "metadata": {},
   "outputs": [],
   "source": [
    "# Data\n",
    "import pandas as pd\n",
    "import numpy as np\n",
    "from pandas_datareader import data, wb\n",
    "\n",
    "# GIS & maps\n",
    "import geopandas as gpd\n",
    "gp = gpd\n",
    "import georasters as gr\n",
    "import geoplot as gplt\n",
    "import geoplot.crs as gcrs\n",
    "import mapclassify as mc\n",
    "import textwrap"
   ]
  },
  {
   "cell_type": "code",
   "execution_count": 5,
   "id": "118c2acd-c15d-464e-b310-69ba2eed982b",
   "metadata": {},
   "outputs": [
    {
     "ename": "ModuleNotFoundError",
     "evalue": "No module named 'stargazer'",
     "output_type": "error",
     "traceback": [
      "\u001b[1;31m---------------------------------------------------------------------------\u001b[0m",
      "\u001b[1;31mModuleNotFoundError\u001b[0m                       Traceback (most recent call last)",
      "\u001b[1;32m~\\AppData\\Local\\Temp\\ipykernel_17892\\1807638060.py\u001b[0m in \u001b[0;36m<cell line: 14>\u001b[1;34m()\u001b[0m\n\u001b[0;32m     12\u001b[0m \u001b[1;32mfrom\u001b[0m \u001b[0mscipy\u001b[0m\u001b[1;33m.\u001b[0m\u001b[0mstats\u001b[0m \u001b[1;32mimport\u001b[0m \u001b[0mnorm\u001b[0m\u001b[1;33m\u001b[0m\u001b[1;33m\u001b[0m\u001b[0m\n\u001b[0;32m     13\u001b[0m \u001b[1;32mimport\u001b[0m \u001b[0mstatsmodels\u001b[0m\u001b[1;33m.\u001b[0m\u001b[0mformula\u001b[0m\u001b[1;33m.\u001b[0m\u001b[0mapi\u001b[0m \u001b[1;32mas\u001b[0m \u001b[0msmf\u001b[0m\u001b[1;33m\u001b[0m\u001b[1;33m\u001b[0m\u001b[0m\n\u001b[1;32m---> 14\u001b[1;33m \u001b[1;32mfrom\u001b[0m \u001b[0mstargazer\u001b[0m\u001b[1;33m.\u001b[0m\u001b[0mstargazer\u001b[0m \u001b[1;32mimport\u001b[0m \u001b[0mStargazer\u001b[0m\u001b[1;33m,\u001b[0m \u001b[0mLineLocation\u001b[0m\u001b[1;33m\u001b[0m\u001b[1;33m\u001b[0m\u001b[0m\n\u001b[0m",
      "\u001b[1;31mModuleNotFoundError\u001b[0m: No module named 'stargazer'"
     ]
    }
   ],
   "source": [
    "# Data Munging\n",
    "from itertools import product, combinations\n",
    "import difflib\n",
    "import pycountry\n",
    "import geocoder\n",
    "from geonamescache.mappers import country\n",
    "mapper = country(from_key='name', to_key='iso3')\n",
    "mapper2 = country(from_key='iso3', to_key='iso')\n",
    "mapper3 = country(from_key='iso3', to_key='name')\n",
    "\n",
    "# Regressions & Stats\n",
    "from scipy.stats import norm\n",
    "import statsmodels.formula.api as smf\n",
    "from stargazer.stargazer import Stargazer, LineLocation"
   ]
  },
  {
   "cell_type": "markdown",
   "id": "57edeea5-3ae0-4845-ba1e-1ed13193ca40",
   "metadata": {
    "user_expressions": []
   },
   "source": [
    "<div class=\"alert alert-block alert-warning\">\n",
    "    <b>Exercise 1:</b> Get WDI data on <b>patent applications by residents and non-residents in each country</b>. Create a new variable that shows the total patents for each country.\n",
    "</div>"
   ]
  },
  {
   "cell_type": "code",
   "execution_count": 2,
   "id": "dcdb82e4-4747-4a56-9372-f430faf99e03",
   "metadata": {},
   "outputs": [
    {
     "data": {
      "text/html": [
       "\n",
       "        <iframe\n",
       "            width=\"500\"\n",
       "            height=\"300\"\n",
       "            src=\"https://data.worldbank.org/share/widget?indicators=NY.GDP.PCAP.PP.KD\"\n",
       "            frameborder=\"0\"\n",
       "            allowfullscreen\n",
       "            \n",
       "        ></iframe>\n",
       "        "
      ],
      "text/plain": [
       "<IPython.lib.display.IFrame at 0x16dcc2720a0>"
      ]
     },
     "execution_count": 2,
     "metadata": {},
     "output_type": "execute_result"
    }
   ],
   "source": [
    "from IPython.display import IFrame\n",
    "url = 'https://data.worldbank.org/share/widget?indicators=NY.GDP.PCAP.PP.KD'\n",
    "IFrame(url, width=500, height=300)"
   ]
  },
  {
   "cell_type": "code",
   "execution_count": 2,
   "id": "95b6bd70-23d6-4126-a200-dfe0f50f027b",
   "metadata": {},
   "outputs": [
    {
     "data": {
      "text/html": [
       "\n",
       "        <iframe\n",
       "            width=\"500\"\n",
       "            height=\"300\"\n",
       "            src=\"https://data.worldbank.org/indicator/IP.PAT.RESD\"\n",
       "            frameborder=\"0\"\n",
       "            allowfullscreen\n",
       "            \n",
       "        ></iframe>\n",
       "        "
      ],
      "text/plain": [
       "<IPython.lib.display.IFrame at 0x19a17b76c70>"
      ]
     },
     "execution_count": 2,
     "metadata": {},
     "output_type": "execute_result"
    }
   ],
   "source": [
    "from IPython.display import IFrame\n",
    "url = 'https://data.worldbank.org/indicator/IP.PAT.RESD'\n",
    "IFrame(url, width=500, height=300)"
   ]
  },
  {
   "cell_type": "code",
   "execution_count": 3,
   "id": "09e8d34b-71e7-4b56-a6ef-7b34a2be2613",
   "metadata": {},
   "outputs": [
    {
     "data": {
      "text/html": [
       "\n",
       "        <iframe\n",
       "            width=\"500\"\n",
       "            height=\"300\"\n",
       "            src=\"https://data.worldbank.org/indicator/IP.PAT.NRES\"\n",
       "            frameborder=\"0\"\n",
       "            allowfullscreen\n",
       "            \n",
       "        ></iframe>\n",
       "        "
      ],
      "text/plain": [
       "<IPython.lib.display.IFrame at 0x19a17b66b80>"
      ]
     },
     "execution_count": 3,
     "metadata": {},
     "output_type": "execute_result"
    }
   ],
   "source": [
    "url = 'https://data.worldbank.org/indicator/IP.PAT.NRES'\n",
    "IFrame(url, width=500, height=300)"
   ]
  },
  {
   "cell_type": "code",
   "execution_count": 12,
   "id": "a7602bdd-9a39-44e6-a490-2f341af00a04",
   "metadata": {},
   "outputs": [
    {
     "data": {
      "text/html": [
       "\n",
       "        <iframe\n",
       "            width=\"800\"\n",
       "            height=\"400\"\n",
       "            src=\"https://pandas-datareader.readthedocs.io/en/latest/remote_data.html#remote-data-wb\"\n",
       "            frameborder=\"0\"\n",
       "            allowfullscreen\n",
       "            \n",
       "        ></iframe>\n",
       "        "
      ],
      "text/plain": [
       "<IPython.lib.display.IFrame at 0x1ce40ce5af0>"
      ]
     },
     "execution_count": 12,
     "metadata": {},
     "output_type": "execute_result"
    }
   ],
   "source": [
    "url = 'https://pandas-datareader.readthedocs.io/en/latest/remote_data.html#remote-data-wb'\n",
    "IFrame(url, width=800, height=400)"
   ]
  },
  {
   "cell_type": "code",
   "execution_count": 11,
   "id": "f4ee54b6-1d1a-4ef3-9483-6a6f8cfa5da7",
   "metadata": {},
   "outputs": [],
   "source": [
    "from pandas_datareader import data, wb"
   ]
  },
  {
   "cell_type": "code",
   "execution_count": 13,
   "id": "196e8f64-4b3b-40fe-a3a9-d2935224c650",
   "metadata": {},
   "outputs": [],
   "source": [
    "wbcountries = wb.get_countries()"
   ]
  },
  {
   "cell_type": "code",
   "execution_count": 14,
   "id": "5df4916d-1d1b-4d20-9b8b-e55816d410fa",
   "metadata": {},
   "outputs": [],
   "source": [
    "wdi_indicators = ['IP.PAT.RESD', 'IP.PAT.NRES']"
   ]
  },
  {
   "cell_type": "code",
   "execution_count": 15,
   "id": "e3759a45-d17d-4d89-895b-3db59cdbb229",
   "metadata": {},
   "outputs": [
    {
     "data": {
      "text/html": [
       "<div>\n",
       "<style scoped>\n",
       "    .dataframe tbody tr th:only-of-type {\n",
       "        vertical-align: middle;\n",
       "    }\n",
       "\n",
       "    .dataframe tbody tr th {\n",
       "        vertical-align: top;\n",
       "    }\n",
       "\n",
       "    .dataframe thead th {\n",
       "        text-align: right;\n",
       "    }\n",
       "</style>\n",
       "<table border=\"1\" class=\"dataframe\">\n",
       "  <thead>\n",
       "    <tr style=\"text-align: right;\">\n",
       "      <th></th>\n",
       "      <th>id</th>\n",
       "      <th>name</th>\n",
       "      <th>unit</th>\n",
       "      <th>source</th>\n",
       "      <th>sourceNote</th>\n",
       "      <th>sourceOrganization</th>\n",
       "      <th>topics</th>\n",
       "    </tr>\n",
       "  </thead>\n",
       "  <tbody>\n",
       "    <tr>\n",
       "      <th>24</th>\n",
       "      <td>1.1_ACCESS.ELECTRICITY.TOT</td>\n",
       "      <td>Access to electricity (% of total population)</td>\n",
       "      <td></td>\n",
       "      <td>Sustainable Energy for All</td>\n",
       "      <td>Access to electricity is the percentage of pop...</td>\n",
       "      <td>b'World Bank Global Electrification Database 2...</td>\n",
       "      <td></td>\n",
       "    </tr>\n",
       "    <tr>\n",
       "      <th>39</th>\n",
       "      <td>1.2_ACCESS.ELECTRICITY.RURAL</td>\n",
       "      <td>Access to electricity (% of rural population)</td>\n",
       "      <td></td>\n",
       "      <td>Sustainable Energy for All</td>\n",
       "      <td>Access to electricity is the percentage of rur...</td>\n",
       "      <td>b'World Bank Global Electrification Database 2...</td>\n",
       "      <td></td>\n",
       "    </tr>\n",
       "    <tr>\n",
       "      <th>40</th>\n",
       "      <td>1.3_ACCESS.ELECTRICITY.URBAN</td>\n",
       "      <td>Access to electricity (% of urban population)</td>\n",
       "      <td></td>\n",
       "      <td>Sustainable Energy for All</td>\n",
       "      <td>Access to electricity is the percentage of tot...</td>\n",
       "      <td>b'World Bank Global Electrification Database 2...</td>\n",
       "      <td></td>\n",
       "    </tr>\n",
       "    <tr>\n",
       "      <th>164</th>\n",
       "      <td>2.1_ACCESS.CFT.TOT</td>\n",
       "      <td>Access to Clean Fuels and Technologies for coo...</td>\n",
       "      <td></td>\n",
       "      <td>Sustainable Energy for All</td>\n",
       "      <td></td>\n",
       "      <td>b''</td>\n",
       "      <td></td>\n",
       "    </tr>\n",
       "    <tr>\n",
       "      <th>195</th>\n",
       "      <td>3.11.01.01.popcen</td>\n",
       "      <td>Population census</td>\n",
       "      <td></td>\n",
       "      <td>Statistical Capacity Indicators</td>\n",
       "      <td>Population censuses collect data on the size, ...</td>\n",
       "      <td>b'World Bank Microdata library. Original sourc...</td>\n",
       "      <td></td>\n",
       "    </tr>\n",
       "  </tbody>\n",
       "</table>\n",
       "</div>"
      ],
      "text/plain": [
       "                               id  \\\n",
       "24     1.1_ACCESS.ELECTRICITY.TOT   \n",
       "39   1.2_ACCESS.ELECTRICITY.RURAL   \n",
       "40   1.3_ACCESS.ELECTRICITY.URBAN   \n",
       "164            2.1_ACCESS.CFT.TOT   \n",
       "195             3.11.01.01.popcen   \n",
       "\n",
       "                                                  name unit  \\\n",
       "24       Access to electricity (% of total population)        \n",
       "39       Access to electricity (% of rural population)        \n",
       "40       Access to electricity (% of urban population)        \n",
       "164  Access to Clean Fuels and Technologies for coo...        \n",
       "195                                  Population census        \n",
       "\n",
       "                              source  \\\n",
       "24        Sustainable Energy for All   \n",
       "39        Sustainable Energy for All   \n",
       "40        Sustainable Energy for All   \n",
       "164       Sustainable Energy for All   \n",
       "195  Statistical Capacity Indicators   \n",
       "\n",
       "                                            sourceNote  \\\n",
       "24   Access to electricity is the percentage of pop...   \n",
       "39   Access to electricity is the percentage of rur...   \n",
       "40   Access to electricity is the percentage of tot...   \n",
       "164                                                      \n",
       "195  Population censuses collect data on the size, ...   \n",
       "\n",
       "                                    sourceOrganization topics  \n",
       "24   b'World Bank Global Electrification Database 2...         \n",
       "39   b'World Bank Global Electrification Database 2...         \n",
       "40   b'World Bank Global Electrification Database 2...         \n",
       "164                                                b''         \n",
       "195  b'World Bank Microdata library. Original sourc...         "
      ]
     },
     "execution_count": 15,
     "metadata": {},
     "output_type": "execute_result"
    }
   ],
   "source": [
    "popvars = wb.search(string='population')\n",
    "popvars.head()"
   ]
  },
  {
   "cell_type": "markdown",
   "id": "a977e690-e657-4480-9c87-1225a4d41fac",
   "metadata": {
    "user_expressions": []
   },
   "source": [
    "<div class=\"alert alert-block alert-warning\">\n",
    "<b>Exercise 2:</b> Using the <code>my_xy_plot</code> function plot the relation between <b>GDP per capita</b> and <b>total patents</b> in the years 1990, 1995, 2000, 2010, 2020.\n",
    "</div>"
   ]
  },
  {
   "cell_type": "code",
   "execution_count": null,
   "id": "8e1483c4-eecb-4913-8368-d2bc06585e2c",
   "metadata": {},
   "outputs": [],
   "source": [
    "url = 'https://seaborn.pydata.org/examples/index.html'\n",
    "IFrame(url, width=800, height=400)"
   ]
  },
  {
   "cell_type": "code",
   "execution_count": 8,
   "id": "f27e61b2-b543-431a-8cb3-e96463379c1c",
   "metadata": {},
   "outputs": [
    {
     "ename": "NameError",
     "evalue": "name 'sns' is not defined",
     "output_type": "error",
     "traceback": [
      "\u001b[1;31m---------------------------------------------------------------------------\u001b[0m",
      "\u001b[1;31mNameError\u001b[0m                                 Traceback (most recent call last)",
      "\u001b[1;32m~\\AppData\\Local\\Temp\\ipykernel_11456\\3011525607.py\u001b[0m in \u001b[0;36m<cell line: 1>\u001b[1;34m()\u001b[0m\n\u001b[1;32m----> 1\u001b[1;33m \u001b[0msns\u001b[0m\u001b[1;33m.\u001b[0m\u001b[0mset\u001b[0m\u001b[1;33m(\u001b[0m\u001b[0mrc\u001b[0m\u001b[1;33m=\u001b[0m\u001b[1;33m{\u001b[0m\u001b[1;34m'figure.figsize'\u001b[0m\u001b[1;33m:\u001b[0m\u001b[1;33m(\u001b[0m\u001b[1;36m11.7\u001b[0m\u001b[1;33m,\u001b[0m\u001b[1;36m8.27\u001b[0m\u001b[1;33m)\u001b[0m\u001b[1;33m}\u001b[0m\u001b[1;33m)\u001b[0m\u001b[1;33m\u001b[0m\u001b[1;33m\u001b[0m\u001b[0m\n\u001b[0m\u001b[0;32m      2\u001b[0m \u001b[0msns\u001b[0m\u001b[1;33m.\u001b[0m\u001b[0mset_context\u001b[0m\u001b[1;33m(\u001b[0m\u001b[1;34m\"talk\"\u001b[0m\u001b[1;33m)\u001b[0m\u001b[1;33m\u001b[0m\u001b[1;33m\u001b[0m\u001b[0m\n\u001b[0;32m      3\u001b[0m \u001b[1;33m\u001b[0m\u001b[0m\n\u001b[0;32m      4\u001b[0m g = sns.relplot(x=\"IP.PAT.RESD\" + \"IP.PAT.NRES\", \n\u001b[0;32m      5\u001b[0m             \u001b[0my\u001b[0m\u001b[1;33m=\u001b[0m\u001b[1;34m\"gdp_pc\"\u001b[0m\u001b[1;33m,\u001b[0m\u001b[1;33m\u001b[0m\u001b[1;33m\u001b[0m\u001b[0m\n",
      "\u001b[1;31mNameError\u001b[0m: name 'sns' is not defined"
     ]
    }
   ],
   "source": [
    "sns.set(rc={'figure.figsize':(11.7,8.27)})\n",
    "sns.set_context(\"talk\")\n",
    "\n",
    "g = sns.relplot(x=\"IP.PAT.RESD\" + \"IP.PAT.NRES\", \n",
    "            y=\"gdp_pc\", \n",
    "            data=dffig,\n",
    "            hue=\"region\",\n",
    "            hue_order = wdi.region.drop_duplicates().sort_values(),\n",
    "            style=\"region\",\n",
    "            style_order = wdi.region.drop_duplicates().sort_values(),\n",
    "            size=\"ln_pop\",\n",
    "            sizes=(10, 400), \n",
    "            alpha=.5, \n",
    "            height=6,\n",
    "            aspect=2,\n",
    "            palette=\"muted\",\n",
    "           )\n",
    "g.set_axis_labels('IP.PAT.RESD' + 'IP.PAT.NRES', 'gdp_pc')"
   ]
  },
  {
   "cell_type": "code",
   "execution_count": 6,
   "id": "c93146d6-c2e7-44f4-b6d6-df1622f9b8f7",
   "metadata": {},
   "outputs": [],
   "source": [
    "def my_xy_plot(dfin, \n",
    "               x='IP.PAT.RESD' + 'IP.PAT.NRES', \n",
    "               y='gdp_pc', \n",
    "               labelvar='iso3c', \n",
    "               dx=0.006125, \n",
    "               dy=0.006125, \n",
    "               xlogscale=False, \n",
    "               ylogscale=False,\n",
    "               xlabel='Patents', \n",
    "               ylabel='GDP_PC',\n",
    "               labels=False,\n",
    "               xpct = False,\n",
    "               ypct = False,\n",
    "               OLS=False,\n",
    "               OLSlinelabel='OLS',\n",
    "               ssline=False,\n",
    "               sslinelabel='45 Degree Line',\n",
    "               filename='Patents vs. GPC_PC.pdf',\n",
    "               hue='region',\n",
    "               hue_order=['East Asia & Pacific', 'Europe & Central Asia',\n",
    "                          'Latin America & Caribbean ', 'Middle East & North Africa',\n",
    "                          'North America', 'South Asia', 'Sub-Saharan Africa '],\n",
    "               style='incomeLevel', \n",
    "               style_order=['High Income', 'Upper Middle Income', 'Lower Middle Income', 'Low Income'],\n",
    "               palette=None,\n",
    "               size=None,\n",
    "               sizes=None,\n",
    "               fontsize=10,\n",
    "               save=True):\n",
    "    '''\n",
    "    Plot the association between x and var in dataframe using labelvar for labels.\n",
    "    '''\n",
    "    sns.set(rc={'figure.figsize':(11.7,8.27)})\n",
    "    sns.set_context(\"talk\")\n",
    "    df = dfin.copy()\n",
    "    df = df.dropna(subset=[x, y]).reset_index(drop=True)\n",
    "    # Plot\n",
    "    k = 0\n",
    "    fig, ax = plt.subplots()\n",
    "    sns.scatterplot(x=x, y=y, data=df, ax=ax, \n",
    "                    hue=hue,\n",
    "                    hue_order=hue_order,\n",
    "                    #hue='incomeLevel',\n",
    "                    #hue_order=['High Income', 'Upper Middle Income', 'Lower Middle Income', 'Low Income'],\n",
    "                    #hue_order=['East Asia & Pacific', 'Europe & Central Asia',\n",
    "                    #           'Latin America & Caribbean ', 'Middle East & North Africa',\n",
    "                    #           'North America', 'South Asia', 'Sub-Saharan Africa '],\n",
    "                    alpha=1, \n",
    "                    style=style, \n",
    "                    style_order=style_order,\n",
    "                    palette=palette,\n",
    "                    size=size,\n",
    "                    sizes=sizes,\n",
    "                    #palette=sns.color_palette(\"Blues_r\", df[hue].unique().shape[0]+6)[:df[hue].unique().shape[0]*2:2],\n",
    "                )\n",
    "    if OLS:\n",
    "        sns.regplot(x=x, y=y, data=df, ax=ax, label=OLSlinelabel, scatter=False)\n",
    "    if ssline:\n",
    "        ax.plot([df[x].min()*.99, df[x].max()*1.01], [df[x].min()*.99, df[x].max()*1.01], c='r', label=sslinelabel)\n",
    "    if labels:\n",
    "        movex = df[x].mean() * dx\n",
    "        movey = df[y].mean() * dy\n",
    "        for line in range(0,df.shape[0]):\n",
    "            ax.text(df[x][line]+movex, df[y][line]+movey, df[labelvar][line], horizontalalignment='left', fontsize=12, color='black')\n",
    "    ax.set_xlabel(xlabel)\n",
    "    ax.set_ylabel(ylabel)\n",
    "    if xpct:\n",
    "        fmt = '%.0f%%' # Format you want the ticks, e.g. '40%'\n",
    "        xticks = mtick.FormatStrFormatter(fmt)\n",
    "        ax.xaxis.set_major_formatter(xticks)\n",
    "    if ypct:\n",
    "        fmt = '%.0f%%' # Format you want the ticks, e.g. '40%'\n",
    "        yticks = mtick.FormatStrFormatter(fmt)\n",
    "        ax.yaxis.set_major_formatter(yticks)\n",
    "    if ylogscale:\n",
    "        ax.set(yscale=\"log\")\n",
    "    if xlogscale:\n",
    "        ax.set(xscale=\"log\")\n",
    "    handles, labels = ax.get_legend_handles_labels()\n",
    "    handles = np.array(handles)\n",
    "    labels = np.array(labels)\n",
    "    handles = list(handles[(labels!=hue) & (labels!=style) & (labels!=size)])\n",
    "    labels = list(labels[(labels!=hue) & (labels!=style) & (labels!=size)])\n",
    "    ax.legend(handles=handles, labels=labels, fontsize=fontsize)\n",
    "    if save:\n",
    "        plt.savefig(pathgraphs + filename, dpi=300, bbox_inches='tight')\n",
    "    return fig"
   ]
  },
  {
   "cell_type": "code",
   "execution_count": 9,
   "id": "f316b6db-593c-420e-a83f-693fcd52e38f",
   "metadata": {},
   "outputs": [
    {
     "ename": "NameError",
     "evalue": "name 'dffig' is not defined",
     "output_type": "error",
     "traceback": [
      "\u001b[1;31m---------------------------------------------------------------------------\u001b[0m",
      "\u001b[1;31mNameError\u001b[0m                                 Traceback (most recent call last)",
      "\u001b[1;32m~\\AppData\\Local\\Temp\\ipykernel_11456\\3358395566.py\u001b[0m in \u001b[0;36m<cell line: 1>\u001b[1;34m()\u001b[0m\n\u001b[1;32m----> 1\u001b[1;33m g = my_xy_plot(dffig, \n\u001b[0m\u001b[0;32m      2\u001b[0m            \u001b[0mx\u001b[0m\u001b[1;33m=\u001b[0m\u001b[1;34m'IP.PAT.RESD'\u001b[0m \u001b[1;33m+\u001b[0m \u001b[1;34m'IP.PAT.NRES'\u001b[0m\u001b[1;33m,\u001b[0m\u001b[1;33m\u001b[0m\u001b[1;33m\u001b[0m\u001b[0m\n\u001b[0;32m      3\u001b[0m            \u001b[0my\u001b[0m\u001b[1;33m=\u001b[0m\u001b[1;34m'gdp_pc'\u001b[0m\u001b[1;33m,\u001b[0m\u001b[1;33m\u001b[0m\u001b[1;33m\u001b[0m\u001b[0m\n\u001b[0;32m      4\u001b[0m            \u001b[0mxlabel\u001b[0m\u001b[1;33m=\u001b[0m\u001b[1;34m'Patents'\u001b[0m\u001b[1;33m,\u001b[0m\u001b[1;33m\u001b[0m\u001b[1;33m\u001b[0m\u001b[0m\n\u001b[0;32m      5\u001b[0m            \u001b[0mylabel\u001b[0m\u001b[1;33m=\u001b[0m\u001b[1;34m'GDP_PC'\u001b[0m\u001b[1;33m,\u001b[0m\u001b[1;33m\u001b[0m\u001b[1;33m\u001b[0m\u001b[0m\n",
      "\u001b[1;31mNameError\u001b[0m: name 'dffig' is not defined"
     ]
    }
   ],
   "source": [
    "g = my_xy_plot(dffig, \n",
    "           x='IP.PAT.RESD' + 'IP.PAT.NRES', \n",
    "           y='gdp_pc', \n",
    "           xlabel='Patents', \n",
    "           ylabel='GDP_PC',\n",
    "           OLS=True, \n",
    "           labels=True, \n",
    "           filename='Patents vs. GPC_PC.pdf')"
   ]
  },
  {
   "cell_type": "markdown",
   "id": "4dab6f93-ae3f-403c-9482-f024a9d0a457",
   "metadata": {
    "user_expressions": []
   },
   "source": [
    "<div class=\"alert alert-block alert-warning\">\n",
    "<b>Exercise 3:</b> Using the <code>my_xy_line_plot</code> function plot the evolution of <b>GDP per capita</b> and <b>total patents</b> by income groups and regions (separate figures).\n",
    "</div>"
   ]
  },
  {
   "cell_type": "code",
   "execution_count": null,
   "id": "216a876f-6dfb-4f99-a4f3-4c7de9405636",
   "metadata": {},
   "outputs": [],
   "source": []
  },
  {
   "cell_type": "markdown",
   "id": "079d0c26-9b30-4e75-819c-d0bd8558885a",
   "metadata": {
    "user_expressions": []
   },
   "source": [
    "<div class=\"alert alert-block alert-warning\">\n",
    "<b>Exercise 4:</b> Plot the relation between patenting activity by <b>residents and non-residents</b> in the year 2015. Make sure to show the 45 degree line so you can see how similar they are.\n",
    "</div>"
   ]
  },
  {
   "cell_type": "code",
   "execution_count": null,
   "id": "390320df-09ba-4baf-964a-d851705ab059",
   "metadata": {},
   "outputs": [],
   "source": []
  },
  {
   "cell_type": "markdown",
   "id": "7c815520-a002-4c10-9e33-c0bf40c2b490",
   "metadata": {
    "user_expressions": []
   },
   "source": [
    "<div class=\"alert alert-block alert-warning\">\n",
    "<b>Exercise 5:</b> Create a static and a dynamic map for patenting activity in the year 2015 across the world. \n",
    "</div>"
   ]
  },
  {
   "cell_type": "code",
   "execution_count": null,
   "id": "484db320-833c-4569-b495-8ec46f5f07b0",
   "metadata": {},
   "outputs": [],
   "source": []
  },
  {
   "cell_type": "markdown",
   "id": "5001d951-b0f0-4e42-876c-077ac05b6172",
   "metadata": {
    "user_expressions": []
   },
   "source": [
    "<div class=\"alert alert-block alert-warning\">\n",
    "<b>Exercise 6:</b> Explore the relation between economic development as measured by Log[GDP per capita] and patenting activity. Show the relation for residents, non-residents, and total, all in one nice looking table. Also, produce a few nice looking figures.\n",
    "</div>"
   ]
  },
  {
   "cell_type": "markdown",
   "id": "cf8f26b8-8c39-42b7-9c30-96bd77fcbf39",
   "metadata": {},
   "source": []
  }
 ],
 "metadata": {
  "kernelspec": {
   "display_name": "Python 3 (ipykernel)",
   "language": "python",
   "name": "python3"
  },
  "language_info": {
   "codemirror_mode": {
    "name": "ipython",
    "version": 3
   },
   "file_extension": ".py",
   "mimetype": "text/x-python",
   "name": "python",
   "nbconvert_exporter": "python",
   "pygments_lexer": "ipython3",
   "version": "3.9.13"
  }
 },
 "nbformat": 4,
 "nbformat_minor": 5
}
